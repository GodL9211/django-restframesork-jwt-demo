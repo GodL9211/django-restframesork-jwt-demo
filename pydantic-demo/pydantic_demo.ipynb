{
 "cells": [
  {
   "cell_type": "code",
   "execution_count": 19,
   "metadata": {
    "collapsed": false,
    "jupyter": {
     "outputs_hidden": false
    },
    "pycharm": {
     "name": "#%%\n"
    }
   },
   "outputs": [
    {
     "name": "stdout",
     "output_type": "stream",
     "text": [
      "User id: 123, User name: 小卤蛋, User email: xiaoludan@example.com\n",
      "{'phone', 'password', 'age', 'id', 'email', 'signup_ts', 'name', 'sex', 'friends'}\n"
     ]
    }
   ],
   "source": [
    "#! -*-conding: UTF-8 -*-\n",
    "# @公众号: 海哥python\n",
    "from enum import Enum\n",
    "\n",
    "from datetime import datetime\n",
    "from typing import List, Optional\n",
    "from pydantic import BaseModel, ValidationError, EmailStr\n",
    "# 导入pydantic对应的模型基类\n",
    "from pydantic import constr, conint\n",
    "\n",
    "\n",
    "class GenderEnum(str, Enum):\n",
    "    \"\"\"\n",
    "    性别枚举\n",
    "    \"\"\"\n",
    "    male = \"男\"\n",
    "    female = \"女\"\n",
    "\n",
    "\n",
    "class User(BaseModel):\n",
    "    id: int\n",
    "    name: str = \"小卤蛋\"\n",
    "    age: conint(ge=0, le=99)  # 整数范围：0 <= age <= 99\n",
    "    email: EmailStr\n",
    "    signup_ts: Optional[datetime] = None\n",
    "    friends: List[str] = []\n",
    "    password: constr(min_length=6, max_length=10)  # 字符长度\n",
    "    phone: constr(pattern=r'^1\\d{10}$')  # 正则验证手机号\n",
    "    sex: GenderEnum  # 枚举验证,只能传: 男和女\n",
    "\n",
    "\n",
    "if __name__ == '__main__':\n",
    "\n",
    "    user_data = {\n",
    "        \"id\": 123,\n",
    "        \"name\": \"小卤蛋\",\n",
    "        \"age\": 20,\n",
    "        \"email\": \"xiaoludan@example.com\",\n",
    "        'signup_ts': '2024-07-19 00:22',\n",
    "        'friends': [\"公众号：海哥python\", '小天才', b''],\n",
    "        'password': '123456',\n",
    "        'phone': '13800000000',\n",
    "        'sex': '男'\n",
    "    }\n",
    "\n",
    "    try:\n",
    "        user = User(**user_data)\n",
    "        print(f\"User id: {user.id}, User name: {user.name}, User email: {user.email}\")\n",
    "        print(user.model_fields_set)\n",
    "    except ValidationError as e:\n",
    "        print(f\"Validation error: {e.json()}\")"
   ]
  },
  {
   "cell_type": "code",
   "execution_count": 2,
   "metadata": {
    "collapsed": false,
    "jupyter": {
     "outputs_hidden": false
    },
    "pycharm": {
     "name": "#%%\n"
    }
   },
   "outputs": [
    {
     "name": "stderr",
     "output_type": "stream",
     "text": [
      "\u001B[32m2024-07-24 10:17:55.757\u001B[0m | \u001B[31m\u001B[1mERROR   \u001B[0m | \u001B[36m__main__\u001B[0m:\u001B[36m<module>\u001B[0m:\u001B[36m21\u001B[0m - \u001B[31m\u001B[1mValidation error: [{\"type\":\"missing\",\"loc\":[\"id\"],\"msg\":\"Field required\",\"input\":{\"name\":\"小卤蛋\",\"age\":20,\"email\":\"xiaoludan@example.com\",\"signup_ts\":\"2024-07-19 00:22\",\"friends\":[\"公众号：海哥python\",\"小天才\",\"\"],\"password\":\"123456\",\"phone\":\"13800000000\",\"sex\":\"男\"},\"url\":\"https://errors.pydantic.dev/2.8/v/missing\"}]\u001B[0m\n"
     ]
    }
   ],
   "source": [
    "# 不符合模型定义时\n",
    "\n",
    "if __name__ == '__main__':\n",
    "\n",
    "    user_data = {\n",
    "        # \"id\": 123,\n",
    "        \"name\": \"小卤蛋\",\n",
    "        \"age\": 20,\n",
    "        \"email\": \"xiaoludan@example.com\",\n",
    "        'signup_ts': '2024-07-19 00:22',\n",
    "        'friends': [\"公众号：海哥python\", '小天才', b''],\n",
    "        'password': '123456',\n",
    "        'phone': '13800000000',\n",
    "        'sex': '男'\n",
    "    }\n",
    "\n",
    "    try:\n",
    "        user = User(**user_data)\n",
    "        logger.info(f\"User id: {user.id}, User name: {user.name}, User email: {user.email}\")\n",
    "    except ValidationError as e:\n",
    "        logger.error(f\"Validation error: {e.json()}\")\n",
    "\n",
    "\n"
   ]
  },
  {
   "cell_type": "code",
   "execution_count": 3,
   "metadata": {},
   "outputs": [
    {
     "name": "stderr",
     "output_type": "stream",
     "text": [
      "\u001B[32m2024-07-24 10:18:34.781\u001B[0m | \u001B[31m\u001B[1mERROR   \u001B[0m | \u001B[36m__main__\u001B[0m:\u001B[36m<module>\u001B[0m:\u001B[36m46\u001B[0m - \u001B[31m\u001B[1mValidation error: [{\"type\":\"value_error\",\"loc\":[\"age\"],\"msg\":\"Value error, 用户年龄必须大于18岁\",\"input\":12,\"ctx\":{\"error\":\"用户年龄必须大于18岁\"},\"url\":\"https://errors.pydantic.dev/2.8/v/value_error\"}]\u001B[0m\n"
     ]
    }
   ],
   "source": [
    "# 自定义验证\n",
    "# ! -*-conding: UTF-8 -*-\n",
    "# @公众号: 海哥python\n",
    "from datetime import datetime\n",
    "from typing import List, Optional\n",
    "from pydantic import BaseModel, ValidationError, EmailStr, field_validator\n",
    "from loguru import logger\n",
    "\n",
    "\n",
    "def check_name(v: str) -> str:\n",
    "    \"\"\"Validator to be used throughout\"\"\"\n",
    "    if not v.startswith(\"小\"):\n",
    "        raise ValueError(\"must be startswith 小\")\n",
    "    return v\n",
    "\n",
    "\n",
    "class User(BaseModel):\n",
    "    id: int\n",
    "    name: str = \"小卤蛋\"\n",
    "    age: int\n",
    "    email: EmailStr\n",
    "    signup_ts: Optional[datetime] = None\n",
    "    friends: List[str] = []\n",
    "\n",
    "    validate_fields = field_validator(\"name\")(check_name)\n",
    "\n",
    "    @field_validator(\"age\")\n",
    "    @classmethod\n",
    "    def check_age(cls, age):\n",
    "        if age < 18:\n",
    "            raise ValueError(\"用户年龄必须大于18岁\")\n",
    "        return age\n",
    "\n",
    "if __name__ == '__main__':\n",
    "    user_data = {\n",
    "        \"id\": 123,\n",
    "        \"name\": \"小卤蛋\",\n",
    "        \"age\": 12,\n",
    "        \"email\": \"xiaoludan@example.com\",\n",
    "        'signup_ts': '2024-07-19 00:22',\n",
    "        'friends': [\"公众号：海哥python\", '小天才', b''],\n",
    "    }\n",
    "    try:\n",
    "        user = User(**user_data)\n",
    "    except ValidationError as e:\n",
    "        logger.error(f\"Validation error: {e.json()}\")\n"
   ]
  },
  {
   "cell_type": "code",
   "execution_count": 4,
   "metadata": {},
   "outputs": [
    {
     "name": "stderr",
     "output_type": "stream",
     "text": [
      "\u001B[32m2024-07-24 10:18:47.060\u001B[0m | \u001B[31m\u001B[1mERROR   \u001B[0m | \u001B[36m__main__\u001B[0m:\u001B[36m<module>\u001B[0m:\u001B[36m13\u001B[0m - \u001B[31m\u001B[1mValidation error: [{\"type\":\"value_error\",\"loc\":[\"name\"],\"msg\":\"Value error, must be startswith 小\",\"input\":\"大卤蛋\",\"ctx\":{\"error\":\"must be startswith 小\"},\"url\":\"https://errors.pydantic.dev/2.8/v/value_error\"}]\u001B[0m\n"
     ]
    }
   ],
   "source": [
    "if __name__ == '__main__':\n",
    "    user_data = {\n",
    "        \"id\": 123,\n",
    "        \"name\": \"大卤蛋\",\n",
    "        \"age\": 20,\n",
    "        \"email\": \"xiaoludan@example.com\",\n",
    "        'signup_ts': '2024-07-19 00:22',\n",
    "        'friends': [\"公众号：海哥python\", '小天才', b''],\n",
    "    }\n",
    "    try:\n",
    "        user = User(**user_data)\n",
    "    except ValidationError as e:\n",
    "        logger.error(f\"Validation error: {e.json()}\")"
   ]
  },
  {
   "cell_type": "code",
   "execution_count": 31,
   "metadata": {},
   "outputs": [
    {
     "name": "stdout",
     "output_type": "stream",
     "text": [
      "---1----\n",
      "{'id': 123, 'name': '小小卤蛋', 'age': 20, 'email': 'xiaoludan@example.com', 'signup_ts': '2024-07-19 00:22', 'friends': ['公众号：海哥python', '小天才', b'']}\n",
      "----2---\n",
      "Validation error: [{\"type\":\"value_error\",\"loc\":[],\"msg\":\"Value error, 用户年龄必须小于30岁, 且名字必须为小卤蛋\",\"input\":{\"id\":123,\"name\":\"小小卤蛋\",\"age\":20,\"email\":\"xiaoludan@example.com\",\"signup_ts\":\"2024-07-19 00:22\",\"friends\":[\"公众号：海哥python\",\"小天才\",\"\"]},\"ctx\":{\"error\":\"用户年龄必须小于30岁, 且名字必须为小卤蛋\"},\"url\":\"https://errors.pydantic.dev/2.8/v/value_error\"}]\n"
     ]
    }
   ],
   "source": [
    "# ! -*-conding: UTF-8 -*-\n",
    "# @公众号: 海哥python\n",
    "from datetime import datetime\n",
    "from typing import List, Optional, Any\n",
    "from typing_extensions import Self  # 如果python版本不低于3.11，则可以直接从typing中导入Self\n",
    "from pydantic import BaseModel, ValidationError, EmailStr, field_validator, model_validator\n",
    "from loguru import logger\n",
    "\n",
    "\n",
    "def check_name(v: str) -> str:\n",
    "    \"\"\"Validator to be used throughout\"\"\"\n",
    "    if not v.startswith(\"小\"):\n",
    "        raise ValueError(\"must be startswith 小\")\n",
    "    return v\n",
    "\n",
    "\n",
    "class User(BaseModel):\n",
    "    id: int\n",
    "    name: str = \"小卤蛋\"\n",
    "    age: int\n",
    "    email: EmailStr\n",
    "    signup_ts: Optional[datetime] = None\n",
    "    friends: List[str] = []\n",
    "\n",
    "    validate_fields = field_validator(\"name\")(check_name)\n",
    "\n",
    "    @field_validator(\"age\")\n",
    "    @classmethod\n",
    "    def check_age(cls, age):\n",
    "        if age < 18:\n",
    "            raise ValueError(\"用户年龄必须大于18岁\")\n",
    "        return age\n",
    "\n",
    "    @model_validator(mode=\"before\")\n",
    "    @classmethod\n",
    "    def check_input_data(cls, data: Any) -> Any:\n",
    "        print(\"---1----\")\n",
    "        print(data)\n",
    "        print(\"----2---\")\n",
    "        return data\n",
    "\n",
    "    @model_validator(mode=\"after\")\n",
    "    def check_age_and_name(self) -> Self:\n",
    "        if self.age < 30 and self.name != \"小卤蛋\":\n",
    "            raise ValueError(\"用户年龄必须小于30岁, 且名字必须为小卤蛋\")\n",
    "\n",
    "        return self\n",
    "\n",
    "\n",
    "if __name__ == '__main__':\n",
    "    user_data = {\n",
    "        \"id\": 123,\n",
    "        \"name\": \"小小卤蛋\",\n",
    "        \"age\": 20,\n",
    "        \"email\": \"xiaoludan@example.com\",\n",
    "        'signup_ts': '2024-07-19 00:22',\n",
    "        'friends': [\"公众号：海哥python\", '小天才', b''],\n",
    "    }\n",
    "    try:\n",
    "        user = User(**user_data)\n",
    "        # print(user.model_dump())\n",
    "    except ValidationError as e:\n",
    "        print(f\"Validation error: {e.json()}\")"
   ]
  },
  {
   "cell_type": "code",
   "execution_count": 27,
   "metadata": {},
   "outputs": [
    {
     "name": "stdout",
     "output_type": "stream",
     "text": [
      "Hello, 公众号：海哥python! How are you?\n",
      "Hello, 公众号：海哥python! 1\n"
     ]
    }
   ],
   "source": [
    "from typing import Annotated\n",
    "\n",
    "from pydantic import BaseModel, Field, validate_call\n",
    "\n",
    "\n",
    "class Person(BaseModel):\n",
    "    name: str = Field(..., min_length=1, max_length=100)\n",
    "    age: int = Field(..., gt=0, lt=20)\n",
    "\n",
    "\n",
    "# @validate_call\n",
    "def greet(person: Person, message: Annotated[str, Field(min_length=1, max_length=100)]):\n",
    "    print(f\"Hello, {person.name}! {message}\")\n",
    "\n",
    "\n",
    "# 正确的调用\n",
    "greet(Person(name=\"公众号：海哥python\", age=18), \"How are you?\")\n",
    "greet(Person(name=\"公众号：海哥python\", age=18), 1)"
   ]
  },
  {
   "cell_type": "code",
   "execution_count": 8,
   "metadata": {},
   "outputs": [
    {
     "name": "stdout",
     "output_type": "stream",
     "text": [
      "1 validation error for greet\n",
      "1\n",
      "  Input should be a valid string [type=string_type, input_value=1, input_type=int]\n",
      "    For further information visit https://errors.pydantic.dev/2.8/v/string_type\n"
     ]
    }
   ],
   "source": [
    "from typing import Annotated\n",
    "\n",
    "from pydantic import BaseModel, Field, validate_call\n",
    "\n",
    "\n",
    "class Person(BaseModel):\n",
    "    name: str = Field(..., min_length=1, max_length=100)\n",
    "    age: int = Field(..., gt=0, lt=20)\n",
    "\n",
    "\n",
    "@validate_call\n",
    "def greet(person: Person, message: Annotated[str, Field(min_length=1, max_length=100)]):\n",
    "    print(f\"Hello, {person.name}! {message}\")\n",
    "\n",
    "\n",
    "# 错误的调用，将引发验证错误\n",
    "try:\n",
    "    greet(Person(name=\"公众号：海哥python\", age=18), 1)\n",
    "except Exception as e:\n",
    "    print(e)"
   ]
  },
  {
   "cell_type": "code",
   "execution_count": null,
   "metadata": {},
   "outputs": [],
   "source": [
    "# 计算属性\n"
   ]
  },
  {
   "cell_type": "code",
   "execution_count": 39,
   "metadata": {
    "pycharm": {
     "name": "#%%\n"
    }
   },
   "outputs": [
    {
     "name": "stderr",
     "output_type": "stream",
     "text": [
      "\u001B[32m2024-07-24 11:42:55.187\u001B[0m | \u001B[1mINFO    \u001B[0m | \u001B[36m__main__\u001B[0m:\u001B[36m<module>\u001B[0m:\u001B[36m39\u001B[0m - \u001B[1m{'id': 123, 'name': '小卤蛋', 'age': 20, 'email': 'xiaoludan@example.com', 'signup_ts': datetime.datetime(2024, 7, 19, 0, 22), 'friends': ['公众号：海哥python', '小天才', ''], 'link': '尼古拉斯 · 小卤蛋'} .... type: <class 'dict'>\u001B[0m\n"
     ]
    },
    {
     "name": "stdout",
     "output_type": "stream",
     "text": [
      "{\"id\":123,\"name\":\"小卤蛋\",\"age\":20,\"email\":\"xiaoludan@example.com\",\"signup_ts\":\"2024-07-19T00:22:00\",\"friends\":[\"公众号：海哥python\",\"小天才\",\"\"],\"link\":\"尼古拉斯 · 小卤蛋\"}\n"
     ]
    }
   ],
   "source": [
    "#! -*-conding: UTF-8 -*-\n",
    "# @公众号: 海哥python\n",
    "from datetime import datetime\n",
    "from typing import List, Optional\n",
    "from pydantic import BaseModel, ValidationError, EmailStr, computed_field\n",
    "from loguru import logger\n",
    "\n",
    "\n",
    "class User(BaseModel):\n",
    "    id: int\n",
    "    name: str = \"小卤蛋\"\n",
    "    age: int\n",
    "    email: EmailStr\n",
    "    signup_ts: Optional[datetime] = None\n",
    "    friends: List[str] = []\n",
    "\n",
    "    @computed_field  # 计算属性\n",
    "    @property\n",
    "    def link(self) -> str:\n",
    "        return f\"尼古拉斯 · {self.name}\"\n",
    "\n",
    "\n",
    "if __name__ == '__main__':\n",
    "\n",
    "    # logger.info(User.model_json_schema())\n",
    "\n",
    "    user_data = {\n",
    "        \"id\": 123,\n",
    "        \"name\": \"小卤蛋\",\n",
    "        \"age\": 20,\n",
    "        \"email\": \"xiaoludan@example.com\",\n",
    "        'signup_ts': '2024-07-19 00:22',\n",
    "        'friends': [\"公众号：海哥python\", '小天才', b''],\n",
    "    }\n",
    "    #\n",
    "    try:\n",
    "        user = User(**user_data)\n",
    "        print(user.dict())\n",
    "        logger.info(f\"{user.model_dump()} .... type: {type(user.model_dump())}\")\n",
    "    except ValidationError as e:\n",
    "        logger.error(f\"Validation error: {e.json()}\")\n"
   ]
  },
  {
   "cell_type": "code",
   "execution_count": 38,
   "metadata": {},
   "outputs": [
    {
     "name": "stdout",
     "output_type": "stream",
     "text": [
      "{'database_host': Url('http://baidu.com/'), 'database_user': '公众号：海哥python', 'database_password': '123456abcd', 'api_key': 'DHKSDsdh*(sdds'}\n"
     ]
    }
   ],
   "source": [
    "# 配置管理\n",
    "\n",
    "# ! -*-conding: UTF-8 -*-\n",
    "# @公众号: 海哥python\n",
    "import os\n",
    "\n",
    "# 从pydantic模块导入HttpUrl和Field类，用于设置和验证配置数据的类型和约束\n",
    "from pydantic import HttpUrl, Field\n",
    "# 从pydantic_settings模块导入BaseSettings类，作为配置类的基类\n",
    "from pydantic_settings import BaseSettings\n",
    "\n",
    "# 初始化环境变量，这些环境变量将用于配置应用程序的数据库和API访问\n",
    "os.environ['DATABASE_HOST'] = \"http://baidu.com\"\n",
    "os.environ['DATABASE_USER'] = \"公众号：海哥python\"\n",
    "os.environ['DATABASE_PASSWORD'] = \"123456abcd\"\n",
    "os.environ['API_KEY'] = \"DHKSDsdh*(sdds\"\n",
    "\n",
    "\n",
    "class AppConfig(BaseSettings):\n",
    "    \"\"\"\n",
    "    应用程序配置类，继承自BaseSettings，用于管理应用程序的配置信息。\n",
    "\n",
    "    Attributes:\n",
    "        database_host: 数据库主机的URL，必须是一个有效的HTTP或HTTPS URL。\n",
    "        database_user: 数据库用户的名称，最小长度为5个字符。\n",
    "        database_password: 数据库用户的密码，最小长度为10个字符。\n",
    "        api_key: API访问的密钥，最小长度为8个字符。\n",
    "    \"\"\"\n",
    "    # 定义配置项database_host，类型为HttpUrl，确保其为有效的HTTP或HTTPS URL\n",
    "    database_host: HttpUrl\n",
    "    # 定义配置项database_user，类型为字符串，默认最小长度为5\n",
    "    database_user: str = Field(min_length=5)\n",
    "    # 定义配置项database_password，类型为字符串，默认最小长度为10\n",
    "    database_password: str = Field(min_length=10)\n",
    "    # 定义配置项api_key，类型为字符串，默认最小长度为8\n",
    "    api_key: str = Field(min_length=8)\n",
    "\n",
    "\n",
    "# 打印配置类的实例化对象的模型信息，用于调试和确认配置的正确性\n",
    "print(AppConfig().model_dump())\n"
   ]
  },
  {
   "cell_type": "code",
   "execution_count": 11,
   "metadata": {},
   "outputs": [
    {
     "name": "stdout",
     "output_type": "stream",
     "text": [
      "{'database_host': Url('http://baidu.com/'), 'database_user': '公众号：海哥python', 'database_password': '123456abcd', 'api_key': 'DHKSDsdh*(sdds'}\n"
     ]
    }
   ],
   "source": [
    "# ! -*-conding: UTF-8 -*-\n",
    "# @公众号: 海哥python\n",
    "# 导入Pydantic的HttpUrl和Field类，用于配置验证\n",
    "from pydantic import HttpUrl, Field\n",
    "# 导入BaseSettings和SettingsConfigDict类，用于设置配置类的基础行为和配置字典\n",
    "from pydantic_settings import BaseSettings, SettingsConfigDict\n",
    "\n",
    "\n",
    "class AppConfig(BaseSettings):\n",
    "    \"\"\"\n",
    "    应用配置类，继承自BaseSettings，用于定义和管理应用的配置项。\n",
    "\n",
    "    Attributes:\n",
    "        model_config: 配置模型的设置，用于指定.env文件的位置、编码方式、是否大小写敏感以及额外的配置策略。\n",
    "        database_host: 数据库主机的URL，必须是一个有效的HTTP或HTTPS URL。\n",
    "        database_user: 数据库用户的名称，最小长度为5个字符。\n",
    "        database_password: 数据库用户的密码，最小长度为10个字符。\n",
    "        api_key: API的密钥，最小长度为8个字符。\n",
    "    \"\"\"\n",
    "    # 定义配置模型的设置，包括.env文件位置、编码、大小写敏感性和额外参数策略\n",
    "    model_config = SettingsConfigDict(\n",
    "        env_file=\".env\",\n",
    "        env_file_encoding=\"utf-8\",\n",
    "        case_sensitive=False,\n",
    "        extra=\"forbid\",\n",
    "    )\n",
    "\n",
    "    # 数据库主机的URL，必须是一个有效的HTTP或HTTPS URL\n",
    "    database_host: HttpUrl\n",
    "    # 数据库用户的名称，最小长度为5个字符\n",
    "    database_user: str = Field(min_length=5)\n",
    "    # 数据库用户的密码，最小长度为10个字符\n",
    "    database_password: str = Field(min_length=10)\n",
    "    # API的密钥，最小长度为8个字符\n",
    "    api_key: str = Field(min_length=8)\n",
    "\n",
    "\n",
    "# 打印配置类的实例化对象的模型信息，用于调试和确认配置的正确性\n",
    "print(AppConfig().model_dump())"
   ]
  },
  {
   "cell_type": "code",
   "execution_count": 12,
   "metadata": {},
   "outputs": [
    {
     "name": "stdout",
     "output_type": "stream",
     "text": [
      "name='公众号：海哥python' age=30 friends=[Friend(name='小卤蛋', age=3), Friend(name='李元芳', age=18)]\n"
     ]
    }
   ],
   "source": [
    "#! -*-conding: UTF-8 -*-\n",
    "# @公众号: 海哥python\n",
    "\n",
    "\n",
    "from typing import List\n",
    "from pydantic import BaseModel, conint\n",
    "\n",
    "\n",
    "class Friend(BaseModel):\n",
    "    name: str\n",
    "    age: conint(gt=0, le=99)\n",
    "\n",
    "\n",
    "class User(BaseModel):\n",
    "    name: str\n",
    "    age: conint(gt=0, le=99)\n",
    "    friends: List[Friend]\n",
    "\n",
    "\n",
    "# 创建并验证数据\n",
    "user_data = {\n",
    "    'name': '公众号：海哥python',\n",
    "    'age': 30,\n",
    "    'friends': [{'name': '小卤蛋', 'age': 3}, {'name': '李元芳', 'age': 18}]\n",
    "}\n",
    "user = User(**user_data)\n",
    "print(user)  # name='公众号：海哥python' age=30 friends=[Friend(name='小卤蛋', age=3), Friend(name='李元芳', age=18)]"
   ]
  },
  {
   "cell_type": "code",
   "execution_count": 13,
   "metadata": {},
   "outputs": [
    {
     "name": "stdout",
     "output_type": "stream",
     "text": [
      "{'properties': {'_id': {'title': ' Id', 'type': 'integer'}, 'name': {'default': '小卤蛋', 'maxLength': 100, 'minLength': 1, 'title': 'Name', 'type': 'string'}, 'age': {'exclusiveMinimum': 0, 'title': 'Age', 'type': 'integer'}, 'email': {'format': 'email', 'title': 'Email', 'type': 'string'}, 'signup_ts': {'anyOf': [{'format': 'date-time', 'type': 'string'}, {'type': 'null'}], 'nullable': False, 'title': 'Signup Ts'}, 'friends': {'default': [], 'items': {'type': 'string'}, 'minItems': 0, 'title': 'Friends', 'type': 'array'}, 'passwd': {'maxLength': 20, 'minLength': 6, 'title': 'Passwd', 'type': 'string'}}, 'required': ['_id', 'age', 'email', 'passwd'], 'title': 'User', 'type': 'object'}\n",
      "创建用户: id=123 name='小卤蛋' age=20 email='xiaoludan@example.com' signup_ts=datetime.datetime(2024, 7, 24, 10, 23, 36, 402266) friends=['公众号：海哥python', '小天才', ''] passwd='123456'\n",
      "转成字典形式： {'id': 123, 'name': '小卤蛋', 'age': 20, 'email': 'xiaoludan@example.com', 'signup_ts': datetime.datetime(2024, 7, 24, 10, 23, 36, 402266), 'friends': ['公众号：海哥python', '小天才', '']} .... type: <class 'dict'>\n",
      "转成json格式：{\"id\":123,\"name\":\"小卤蛋\",\"age\":20,\"email\":\"xiaoludan@example.com\",\"signup_ts\":\"2024-07-24T10:23:36.402266\",\"friends\":[\"公众号：海哥python\",\"小天才\",\"\"]} .... type: <class 'str'>\n",
      "用户属性： User id: 123, User name: 小卤蛋, User email: xiaoludan@example.com\n"
     ]
    }
   ],
   "source": [
    "#! -*-conding: UTF-8 -*-\n",
    "# @公众号: 海哥python\n",
    "\n",
    "from pydantic import BaseModel, Field, EmailStr, ValidationError\n",
    "from typing import List, Optional\n",
    "from datetime import datetime\n",
    "\n",
    "\n",
    "class User(BaseModel):\n",
    "    id: int = Field(..., alias=\"_id\", frozen=True, strict=True)  # 设置别名，创建后id不能被修改，id不能是字符串形式的“123”传入\n",
    "    name: str = Field(default=\"小卤蛋\", min_length=1, max_length=100)  # 设置默认值，使用 min_length 和 max_length 来限制字符串长度\n",
    "    age: int = Field(gt=0)  # 支持各类条件验证，这里假设年龄必须大于0\n",
    "    email: EmailStr\n",
    "    signup_ts: Optional[datetime] = Field(default_factory=datetime.now, nullable=False, validate_default=True)\n",
    "    friends: List[str] = Field(default=[], min_items=0)\n",
    "    passwd: str = Field(min_length=6, max_length=20, exclude=True)  # passwd不会被序列化\n",
    "\n",
    "\n",
    "if __name__ == '__main__':\n",
    "\n",
    "    print(User.model_json_schema())\n",
    "\n",
    "    user_data = {\n",
    "        \"_id\": 123,  # 使用别名 _id\n",
    "        \"name\": \"小卤蛋\",\n",
    "        \"age\": 20,\n",
    "        \"email\": \"xiaoludan@example.com\",\n",
    "        # 'signup_ts': '2024-07-19 00:22',\n",
    "        'friends': [\"公众号：海哥python\", '小天才', b''],\n",
    "        \"passwd\": \"123456\"\n",
    "    }\n",
    "\n",
    "    try:\n",
    "        user = User(**user_data)\n",
    "        print(f\"创建用户: {user}\")\n",
    "        print(f\"转成字典形式： {user.model_dump()} .... type: {type(user.model_dump())}\")\n",
    "        print(f\"转成json格式：{user.model_dump_json()} .... type: {type(user.model_dump_json())}\")\n",
    "        print(f\"用户属性： User id: {user.id}, User name: {user.name}, User email: {user.email}\")\n",
    "        # user.id = 456   # 这里修改会报错\n",
    "    except ValidationError as e:\n",
    "        print(f\"Validation error: {e.json()}\")"
   ]
  },
  {
   "cell_type": "code",
   "execution_count": 14,
   "metadata": {},
   "outputs": [
    {
     "ename": "ValidationError",
     "evalue": "1 validation error for User\nname\n  String should have at least 10 characters [type=string_too_short, input_value='John Doe', input_type=str]\n    For further information visit https://errors.pydantic.dev/2.8/v/string_too_short",
     "output_type": "error",
     "traceback": [
      "\u001B[1;31m---------------------------------------------------------------------------\u001B[0m",
      "\u001B[1;31mValidationError\u001B[0m                           Traceback (most recent call last)",
      "Cell \u001B[1;32mIn[14], line 16\u001B[0m\n\u001B[0;32m     12\u001B[0m         str_min_length \u001B[38;5;241m=\u001B[39m \u001B[38;5;241m10\u001B[39m  \u001B[38;5;66;03m# 字符串最小长度\u001B[39;00m\n\u001B[0;32m     13\u001B[0m         str_max_length \u001B[38;5;241m=\u001B[39m \u001B[38;5;241m20\u001B[39m  \u001B[38;5;66;03m# 字符串最大长度\u001B[39;00m\n\u001B[1;32m---> 16\u001B[0m user \u001B[38;5;241m=\u001B[39m \u001B[43mUser\u001B[49m\u001B[43m(\u001B[49m\u001B[43mname\u001B[49m\u001B[38;5;241;43m=\u001B[39;49m\u001B[38;5;124;43m\"\u001B[39;49m\u001B[38;5;124;43mJohn Doe\u001B[39;49m\u001B[38;5;124;43m\"\u001B[39;49m\u001B[43m,\u001B[49m\u001B[43m \u001B[49m\u001B[43mage\u001B[49m\u001B[38;5;241;43m=\u001B[39;49m\u001B[38;5;241;43m30\u001B[39;49m\u001B[43m)\u001B[49m\n",
      "File \u001B[1;32mF:\\Codes\\venv\\grpc\\lib\\site-packages\\pydantic\\main.py:193\u001B[0m, in \u001B[0;36mBaseModel.__init__\u001B[1;34m(self, **data)\u001B[0m\n\u001B[0;32m    191\u001B[0m \u001B[38;5;66;03m# `__tracebackhide__` tells pytest and some other tools to omit this function from tracebacks\u001B[39;00m\n\u001B[0;32m    192\u001B[0m __tracebackhide__ \u001B[38;5;241m=\u001B[39m \u001B[38;5;28;01mTrue\u001B[39;00m\n\u001B[1;32m--> 193\u001B[0m \u001B[38;5;28;43mself\u001B[39;49m\u001B[38;5;241;43m.\u001B[39;49m\u001B[43m__pydantic_validator__\u001B[49m\u001B[38;5;241;43m.\u001B[39;49m\u001B[43mvalidate_python\u001B[49m\u001B[43m(\u001B[49m\u001B[43mdata\u001B[49m\u001B[43m,\u001B[49m\u001B[43m \u001B[49m\u001B[43mself_instance\u001B[49m\u001B[38;5;241;43m=\u001B[39;49m\u001B[38;5;28;43mself\u001B[39;49m\u001B[43m)\u001B[49m\n",
      "\u001B[1;31mValidationError\u001B[0m: 1 validation error for User\nname\n  String should have at least 10 characters [type=string_too_short, input_value='John Doe', input_type=str]\n    For further information visit https://errors.pydantic.dev/2.8/v/string_too_short"
     ]
    }
   ],
   "source": [
    "#! -*-conding: UTF-8 -*-\n",
    "# @公众号: 海哥python\n",
    "\n",
    "from pydantic import BaseModel\n",
    "\n",
    "\n",
    "class User(BaseModel):\n",
    "    name: str\n",
    "    age: int\n",
    "\n",
    "    class Config:\n",
    "        str_min_length = 10  # 字符串最小长度\n",
    "        str_max_length = 20  # 字符串最大长度\n",
    "\n",
    "\n",
    "user = User(name=\"John Doe\", age=30)"
   ]
  },
  {
   "cell_type": "code",
   "execution_count": 15,
   "metadata": {},
   "outputs": [
    {
     "name": "stderr",
     "output_type": "stream",
     "text": [
      "\u001B[32m2024-07-24 10:24:13.845\u001B[0m | \u001B[1mINFO    \u001B[0m | \u001B[36m__main__\u001B[0m:\u001B[36m<module>\u001B[0m:\u001B[36m42\u001B[0m - \u001B[1m{'id': 123, 'name': '小卤蛋', 'age': 20, 'email': 'xiaoludan@example.com', 'signup_ts': '2024-07-24 10:24:13', 'friends': ['公众号：海哥python', '小天才', '']} .... type: <class 'dict'>\u001B[0m\n"
     ]
    }
   ],
   "source": [
    "#! -*-conding: UTF-8 -*-\n",
    "# @公众号: 海哥python\n",
    "from datetime import datetime\n",
    "from typing import List, Optional\n",
    "from pydantic import BaseModel, ValidationError, EmailStr, field_validator, field_serializer\n",
    "from loguru import logger\n",
    "\n",
    "\n",
    "class User(BaseModel):\n",
    "    id: int\n",
    "    name: str = \"小卤蛋\"\n",
    "    age: int\n",
    "    email: EmailStr\n",
    "    signup_ts: Optional[datetime] = datetime.now()\n",
    "    friends: List[str] = []\n",
    "\n",
    "    @field_validator(\"age\")\n",
    "    @classmethod\n",
    "    def check_age(cls, age):\n",
    "        if age < 18:\n",
    "            raise ValueError(\"用户年龄必须大于18岁\")\n",
    "        return age\n",
    "\n",
    "    @field_serializer('signup_ts')\n",
    "    def serialize_signup_ts(self, value: datetime) -> str:\n",
    "        return value.strftime('%Y-%m-%d %H:%M:%S')\n",
    "\n",
    "\n",
    "if __name__ == '__main__':\n",
    "\n",
    "    user_data = {\n",
    "        \"id\": 123,\n",
    "        \"name\": \"小卤蛋\",\n",
    "        \"age\": 20,\n",
    "        \"email\": \"xiaoludan@example.com\",\n",
    "        # 'signup_ts': '2024-07-19 00:22',\n",
    "        'friends': [\"公众号：海哥python\", '小天才', b''],\n",
    "    }\n",
    "\n",
    "    try:\n",
    "        user = User.model_validate(user_data)\n",
    "        logger.info(f\"{user.model_dump()} .... type: {type(user.model_dump())}\")\n",
    "    except ValidationError as e:\n",
    "        logger.error(f\"Validation error: {e.json()}\")"
   ]
  },
  {
   "cell_type": "code",
   "execution_count": 16,
   "metadata": {},
   "outputs": [
    {
     "name": "stderr",
     "output_type": "stream",
     "text": [
      "\u001B[32m2024-07-24 10:24:34.546\u001B[0m | \u001B[1mINFO    \u001B[0m | \u001B[36m__main__\u001B[0m:\u001B[36m<module>\u001B[0m:\u001B[36m53\u001B[0m - \u001B[1m{\"id\":123,\"name\":\"小卤蛋\",\"age\":21,\"email\":\"xiaoludan@example.com\",\"signup_ts\":\"2024-07-24 10:24:34\",\"friends\":[\"公众号：海哥python\",\"小天才\",\"\"]} .... type: <class 'str'>\u001B[0m\n"
     ]
    }
   ],
   "source": [
    "#! -*-conding: UTF-8 -*-\n",
    "# @公众号: 海哥python\n",
    "from datetime import datetime\n",
    "from typing import List, Optional, Any\n",
    "from pydantic import BaseModel, ValidationError, EmailStr, field_validator, field_serializer, model_serializer\n",
    "from loguru import logger\n",
    "\n",
    "\n",
    "class User(BaseModel):\n",
    "    id: int\n",
    "    name: str = \"小卤蛋\"\n",
    "    age: int\n",
    "    email: EmailStr\n",
    "    signup_ts: Optional[datetime] = datetime.now()\n",
    "    friends: List[str] = []\n",
    "\n",
    "    @field_validator(\"age\")\n",
    "    @classmethod\n",
    "    def check_age(cls, age):\n",
    "        if age < 18:\n",
    "            raise ValueError(\"用户年龄必须大于18岁\")\n",
    "        return age\n",
    "\n",
    "    @field_serializer('signup_ts')\n",
    "    def serialize_signup_ts(self, value: datetime) -> str:\n",
    "        return value.strftime('%Y-%m-%d %H:%M:%S')\n",
    "\n",
    "    @model_serializer\n",
    "    def serialize_model(self) -> dict[str, Any]:\n",
    "        return {\n",
    "            'id': self.id,\n",
    "            'name': self.name,\n",
    "            'age': self.age + 1,\n",
    "            'email': self.email,\n",
    "            'signup_ts': self.serialize_signup_ts(self.signup_ts),\n",
    "            'friends': self.friends,\n",
    "        }\n",
    "\n",
    "\n",
    "if __name__ == '__main__':\n",
    "\n",
    "    user_data = {\n",
    "        \"id\": 123,\n",
    "        \"name\": \"小卤蛋\",\n",
    "        \"age\": 20,\n",
    "        \"email\": \"xiaoludan@example.com\",\n",
    "        # 'signup_ts': '2024-07-19 00:22',\n",
    "        'friends': [\"公众号：海哥python\", '小天才', b''],\n",
    "    }\n",
    "\n",
    "    try:\n",
    "        user = User.model_validate(user_data)\n",
    "        logger.info(f\"{user.model_dump_json()} .... type: {type(user.model_dump_json())}\")\n",
    "    except ValidationError as e:\n",
    "        logger.error(f\"Validation error: {e.json()}\")"
   ]
  },
  {
   "cell_type": "markdown",
   "metadata": {},
   "source": [
    "# 生成文档"
   ]
  },
  {
   "cell_type": "code",
   "execution_count": 17,
   "metadata": {
    "jp-MarkdownHeadingCollapsed": true
   },
   "outputs": [
    {
     "name": "stderr",
     "output_type": "stream",
     "text": [
      "\u001B[32m2024-07-24 10:25:47.691\u001B[0m | \u001B[1mINFO    \u001B[0m | \u001B[36m__main__\u001B[0m:\u001B[36m<module>\u001B[0m:\u001B[36m26\u001B[0m - \u001B[1m{'properties': {'id': {'title': 'Id', 'type': 'integer'}, 'name': {'default': '小卤蛋', 'title': 'Name', 'type': 'string'}, 'age': {'title': 'Age', 'type': 'integer'}, 'email': {'format': 'email', 'title': 'Email', 'type': 'string'}, 'signup_ts': {'anyOf': [{'format': 'date-time', 'type': 'string'}, {'type': 'null'}], 'default': None, 'title': 'Signup Ts'}, 'friends': {'default': [], 'items': {'type': 'string'}, 'title': 'Friends', 'type': 'array'}}, 'required': ['id', 'age', 'email'], 'title': 'User', 'type': 'object'}\u001B[0m\n"
     ]
    }
   ],
   "source": [
    "#! -*-conding: UTF-8 -*-\n",
    "# @公众号: 海哥python\n",
    "from datetime import datetime\n",
    "from typing import List, Optional\n",
    "from pydantic import BaseModel, ValidationError, EmailStr, field_validator\n",
    "from loguru import logger\n",
    "\n",
    "\n",
    "class User(BaseModel):\n",
    "    id: int\n",
    "    name: str = \"小卤蛋\"\n",
    "    age: int\n",
    "    email: EmailStr\n",
    "    signup_ts: Optional[datetime] = None\n",
    "    friends: List[str] = []\n",
    "\n",
    "    @field_validator(\"age\")\n",
    "    def check_age(cls, age):\n",
    "        if age < 18:\n",
    "            raise ValueError(\"用户年龄必须大于18岁\")\n",
    "        return age\n",
    "\n",
    "\n",
    "if __name__ == '__main__':\n",
    "\n",
    "    logger.info(User.model_json_schema())"
   ]
  },
  {
   "cell_type": "code",
   "execution_count": null,
   "metadata": {},
   "outputs": [],
   "source": []
  }
 ],
 "metadata": {
  "kernelspec": {
   "display_name": "Python 3 (ipykernel)",
   "language": "python",
   "name": "python3"
  },
  "language_info": {
   "codemirror_mode": {
    "name": "ipython",
    "version": 3
   },
   "file_extension": ".py",
   "mimetype": "text/x-python",
   "name": "python",
   "nbconvert_exporter": "python",
   "pygments_lexer": "ipython3",
   "version": "3.10.5"
  }
 },
 "nbformat": 4,
 "nbformat_minor": 4
}